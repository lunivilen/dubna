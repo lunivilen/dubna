{
 "cells": [
  {
   "cell_type": "code",
   "execution_count": 4,
   "id": "initial_id",
   "metadata": {
    "collapsed": true,
    "ExecuteTime": {
     "end_time": "2023-11-13T20:40:55.074555500Z",
     "start_time": "2023-11-13T20:40:55.065930700Z"
    }
   },
   "outputs": [],
   "source": [
    "from data_processing.parse_data import get_tracks_data\n",
    "from data_processing.cluster_data import create_clusters"
   ]
  },
  {
   "cell_type": "code",
   "execution_count": 8,
   "outputs": [],
   "source": [
    "track_list = get_tracks_data(\"../data/dump/event_0_prototracks.txt\", \"../data/dump/event_0_space_points.txt\", True)"
   ],
   "metadata": {
    "collapsed": false,
    "ExecuteTime": {
     "end_time": "2023-11-13T20:41:24.811650600Z",
     "start_time": "2023-11-13T20:41:23.901652200Z"
    }
   },
   "id": "bb8c8168f5d22619"
  },
  {
   "cell_type": "code",
   "execution_count": 22,
   "outputs": [],
   "source": [
    "clusters = create_clusters(track_list, n_hits=3)"
   ],
   "metadata": {
    "collapsed": false,
    "ExecuteTime": {
     "end_time": "2023-11-13T21:08:19.528766300Z",
     "start_time": "2023-11-13T21:08:15.908769600Z"
    }
   },
   "id": "a0a4556c5f75270b"
  }
 ],
 "metadata": {
  "kernelspec": {
   "display_name": "Python 3",
   "language": "python",
   "name": "python3"
  },
  "language_info": {
   "codemirror_mode": {
    "name": "ipython",
    "version": 2
   },
   "file_extension": ".py",
   "mimetype": "text/x-python",
   "name": "python",
   "nbconvert_exporter": "python",
   "pygments_lexer": "ipython2",
   "version": "2.7.6"
  }
 },
 "nbformat": 4,
 "nbformat_minor": 5
}
