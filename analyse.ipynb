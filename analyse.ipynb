{
 "cells": [
  {
   "cell_type": "code",
   "execution_count": null,
   "outputs": [],
   "source": [
    "from fast_cleaning import fast_cleaning_longer, fast_merging_logical\n",
    "from cleaning_longer import cleaning_longer\n",
    "from merging_logical import merging_logical\n",
    "from coverage_cleaning import coverage_cleaning\n",
    "from validation import calc_characteristics\n",
    "from matplotlib import pyplot as plt\n",
    "from copy import deepcopy\n",
    "from get_data import *\n",
    "from time import time\n",
    "import pandas as pd\n",
    "import matplotlib\n",
    "import os\n"
   ],
   "metadata": {
    "collapsed": false
   },
   "id": "e0d70c8788c10888"
  },
  {
   "cell_type": "markdown",
   "source": [
    "# Create variables for analyse"
   ],
   "metadata": {
    "collapsed": false
   },
   "id": "2a41e634054aa1"
  },
  {
   "cell_type": "code",
   "execution_count": null,
   "outputs": [],
   "source": [
    "path = \"data\"\n",
    "event_list = os.listdir(path)\n",
    "cleaning_type_list = [\"raw\",\n",
    "                      \"cleaning_longer\",\n",
    "                      \"merging_logical\",\n",
    "                      \"fast_cleaning_longer\",\n",
    "                      \"fast_merging_logical\",\n",
    "                      \"coverage_cleaning\"]\n",
    "\n",
    "cleaning_func_list = [list,\n",
    "                      cleaning_longer,\n",
    "                      merging_logical,\n",
    "                      fast_cleaning_longer,\n",
    "                      fast_merging_logical,\n",
    "                      coverage_cleaning]\n",
    "plot_title = [\"Efficiency\",\n",
    "              \"Number of tracks left\",\n",
    "              \"Fake rate\",\n",
    "              \"Duplicates\",\n",
    "              \"Purity\"]"
   ],
   "metadata": {
    "collapsed": false
   },
   "id": "644f02241cef39dd"
  },
  {
   "cell_type": "markdown",
   "source": [
    "# Create data objects for store information"
   ],
   "metadata": {
    "collapsed": false
   },
   "id": "597b2005467b3408"
  },
  {
   "cell_type": "code",
   "execution_count": null,
   "outputs": [],
   "source": [
    "event_list = [event_list[i:i + 3] for i in range(0, len(event_list), 3)]\n",
    "df_efficiency = pd.DataFrame(columns=cleaning_type_list)\n",
    "df_time = pd.DataFrame(columns=cleaning_type_list)\n",
    "df_fake_rate = pd.DataFrame(columns=cleaning_type_list)\n",
    "df_tracks_number = pd.DataFrame(columns=cleaning_type_list)\n",
    "df_duplicate = pd.DataFrame(columns=cleaning_type_list)\n",
    "df_purity = pd.DataFrame(columns=cleaning_type_list)"
   ],
   "metadata": {
    "collapsed": false
   },
   "id": "dd83f94a4a5ce141"
  },
  {
   "cell_type": "markdown",
   "source": [
    "# Collect statistics of all types of cleaning"
   ],
   "metadata": {
    "collapsed": false
   },
   "id": "858628f5588ced34"
  },
  {
   "cell_type": "code",
   "execution_count": null,
   "outputs": [],
   "source": [
    "for event_number, event in enumerate(event_list):\n",
    "    track_file = event[0]\n",
    "    hit_file = event[1]\n",
    "    id_file = event[2]\n",
    "\n",
    "    tracks = get_tracks_data(f'{path}/{track_file}', f'{path}/{hit_file}')\n",
    "    hit_list = get_hits_data_for_validation(f'{path}/{hit_file}')\n",
    "    track_dict = get_hits_data(f'{path}/{hit_file}')\n",
    "    secon_track_list = get_secondary_track(f'{path}/{id_file}')\n",
    "\n",
    "    print(f\"###############################{event_number}/{len(event_list)}###############################\")\n",
    "    if not len(tracks) or not len(hit_list):\n",
    "        print(\"ZERO\")\n",
    "        continue\n",
    "\n",
    "    for cleaning_type, cleaning_func in zip(cleaning_type_list, cleaning_func_list):\n",
    "        s = time()\n",
    "        cleaned_tracks = cleaning_func(deepcopy(tracks))\n",
    "        df_time.at[event_number, cleaning_type] = time() - s\n",
    "        df_tracks_number.at[event_number, cleaning_type] = len(cleaned_tracks)\n",
    "        characteristic_dict = calc_characteristics(cleaned_tracks, hit_list, track_dict, secon_track_list)\n",
    "\n",
    "        df_efficiency.at[event_number, cleaning_type] = characteristic_dict[\"efficiency\"]\n",
    "        df_fake_rate.at[event_number, cleaning_type] = characteristic_dict[\"fake_rate\"]\n",
    "        df_duplicate.at[event_number, cleaning_type] = characteristic_dict[\"duplication_rate\"]\n",
    "        df_purity.at[event_number, cleaning_type] = characteristic_dict[\"purity\"]"
   ],
   "metadata": {
    "collapsed": false
   },
   "id": "4b8e92ef5cd5d398"
  },
  {
   "cell_type": "markdown",
   "source": [
    "# Save df as cvs"
   ],
   "metadata": {
    "collapsed": false
   },
   "id": "66452a8efaf791e0"
  },
  {
   "cell_type": "code",
   "execution_count": null,
   "outputs": [],
   "source": [
    "df_list = [df_efficiency, df_tracks_number, df_fake_rate, df_duplicate, df_purity, df_time]\n",
    "name_list = [\"Efficiency\",\n",
    "             \"Number of tracks left\",\n",
    "             \"Fake rate\",\n",
    "             \"Duplicates\",\n",
    "             \"Purity\",\n",
    "             \"Time\"]\n",
    "for df, name in zip(df_list, name_list):\n",
    "    df.to_csv(f\"result/{name}.csv\", index=False)"
   ],
   "metadata": {
    "collapsed": false
   },
   "id": "4a02466a10e53c79"
  },
  {
   "cell_type": "markdown",
   "source": [
    "# Load df from csv"
   ],
   "metadata": {
    "collapsed": false
   },
   "id": "a16849f5d57ea127"
  },
  {
   "cell_type": "code",
   "execution_count": null,
   "outputs": [],
   "source": [
    "df_efficiency = pd.read_csv(f\"result/Efficiency.csv\")\n",
    "df_tracks_number = pd.read_csv(f\"result/Number of tracks left.csv\")\n",
    "df_fake_rate = pd.read_csv(f\"result/Fake rate.csv\")\n",
    "df_duplicate = pd.read_csv(f\"result/Duplicates.csv\")\n",
    "df_purity = pd.read_csv(f\"result/Purity.csv\")\n",
    "df_time = pd.read_csv(f\"result/Time.csv\")"
   ],
   "metadata": {
    "collapsed": false
   },
   "id": "d71b9c52eb8649be"
  },
  {
   "cell_type": "markdown",
   "source": [
    "# Remove zero outliers"
   ],
   "metadata": {
    "collapsed": false
   },
   "id": "aebca8ad446978ea"
  },
  {
   "cell_type": "code",
   "execution_count": null,
   "outputs": [],
   "source": [
    "zero_index = df_efficiency[df_efficiency[\"raw\"] < 0.1].index\n",
    "df_efficiency = df_efficiency.drop(index=zero_index, axis=0)\n",
    "df_tracks_number = df_tracks_number.drop(index=zero_index, axis=0)\n",
    "df_fake_rate = df_fake_rate.drop(index=zero_index, axis=0)\n",
    "df_duplicate = df_duplicate.drop(index=zero_index, axis=0)\n",
    "df_purity = df_purity.drop(index=zero_index, axis=0)\n",
    "df_time = df_time.drop(index=zero_index, axis=0)"
   ],
   "metadata": {
    "collapsed": false
   },
   "id": "5e4fb98e9b4f4690"
  },
  {
   "cell_type": "markdown",
   "source": [
    "# Drawing"
   ],
   "metadata": {
    "collapsed": false
   },
   "id": "522f6519a2e30126"
  },
  {
   "cell_type": "code",
   "execution_count": null,
   "outputs": [],
   "source": [
    "matplotlib.rcParams.update({'font.size': 20})\n",
    "fig, axs = plt.subplots(11, 1, figsize=(50, 50))\n",
    "\n",
    "df_list = [df_efficiency, df_tracks_number, df_fake_rate, df_duplicate, df_purity]\n",
    "for plot_id, df_id in zip(range(0, (len(df_list) + 1) * 2, 2), range(len(df_list))):\n",
    "    df_normalized = df_list[df_id][df_list[df_id][\"raw\"] != 0]\n",
    "    df_normalized = df_normalized.div(df_normalized[\"raw\"], axis=0)\n",
    "\n",
    "    for j, df in enumerate([df_list[df_id], df_normalized]):\n",
    "        for column in df.columns.difference([\"raw\"]):\n",
    "            axs[plot_id + j].plot(df.index, df[column], label=column)\n",
    "        axs[plot_id + j].set_xlabel(\"Индекс\")\n",
    "        axs[plot_id + j].set_ylabel(\"Значение\")\n",
    "        axs[plot_id + j].set_title(plot_title[df_id] + \"/Raw\" if j else plot_title[df_id])\n",
    "        axs[plot_id + j].legend()\n",
    "\n",
    "for column in df_time.columns.difference([\"raw\"]):\n",
    "    axs[len(df_list) * 2].plot(df_time.index, df_time[column], label=column)\n",
    "axs[len(df_list) * 2].set_xlabel(\"Индекс\")\n",
    "axs[len(df_list) * 2].set_ylabel(\"Значение\")\n",
    "axs[len(df_list) * 2].set_title('Time')\n",
    "axs[len(df_list) * 2].legend()\n",
    "\n",
    "plt.tight_layout()\n",
    "plt.show()"
   ],
   "metadata": {
    "collapsed": false
   },
   "id": "f0f925b76569302f"
  },
  {
   "cell_type": "markdown",
   "source": [
    "# Average"
   ],
   "metadata": {
    "collapsed": false
   },
   "id": "55d6c112dc6c4e12"
  },
  {
   "cell_type": "code",
   "execution_count": null,
   "outputs": [],
   "source": [
    "matplotlib.rcParams.update({'font.size': 20})\n",
    "fig, axs = plt.subplots(6, 1, figsize=(20, 50))\n",
    "plot_title = [\"Efficiency\",\n",
    "              \"Number of tracks left\",\n",
    "              \"Fake rate\",\n",
    "              \"Duplicates\",\n",
    "              \"Purity\",\n",
    "              \"Time\"]\n",
    "colour_list = ['grey', 'blue', 'orange', 'red', 'purple', 'green']\n",
    "df_list = [df_efficiency, df_tracks_number, df_fake_rate, df_duplicate, df_purity, df_time]\n",
    "for plot_id, df in enumerate(df_list):\n",
    "    axs[plot_id].barh(df.mean().index, df.mean(), color=colour_list)\n",
    "    axs[plot_id].set_title(plot_title[plot_id])\n",
    "    axs[plot_id].set_xlim(df.mean().min()*0.9)\n",
    "\n",
    "plt.tight_layout()\n",
    "plt.show()"
   ],
   "metadata": {
    "collapsed": false
   },
   "id": "f00c671e0c5aed8e"
  }
 ],
 "metadata": {
  "kernelspec": {
   "display_name": "Python 3",
   "language": "python",
   "name": "python3"
  },
  "language_info": {
   "codemirror_mode": {
    "name": "ipython",
    "version": 2
   },
   "file_extension": ".py",
   "mimetype": "text/x-python",
   "name": "python",
   "nbconvert_exporter": "python",
   "pygments_lexer": "ipython2",
   "version": "2.7.6"
  }
 },
 "nbformat": 4,
 "nbformat_minor": 5
}
