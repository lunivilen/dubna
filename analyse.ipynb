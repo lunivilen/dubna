{
 "cells": [
  {
   "cell_type": "code",
   "execution_count": 1,
   "outputs": [],
   "source": [
    "from fast_cleaning import fast_cleaning_longer, fast_cleaning_merge\n",
    "from cleaning_old_longer import cleaning_old_longer\n",
    "from cleaning_old_merge import cleaning_old_merge\n",
    "from validation import get_efficiency, get_fake_rate\n",
    "from coating_cleaning import coating_cleaning\n",
    "from matplotlib import pyplot as plt\n",
    "from get_data import *\n",
    "from time import time\n",
    "import pandas as pd\n",
    "import matplotlib\n",
    "import os\n"
   ],
   "metadata": {
    "collapsed": false,
    "ExecuteTime": {
     "end_time": "2023-08-23T18:59:45.358393800Z",
     "start_time": "2023-08-23T18:59:44.232098500Z"
    }
   },
   "id": "e0d70c8788c10888"
  },
  {
   "cell_type": "code",
   "execution_count": 2,
   "outputs": [],
   "source": [
    "path = \"data/selecting_pri_and_sec\"\n",
    "event_list = os.listdir(path)\n",
    "cleaning_type_list = [\"cleaning_old_longer\",\n",
    "                      \"cleaning_old_merge\",\n",
    "                      \"fast_cleaning_longer\",\n",
    "                      \"fast_cleaning_merge\",\n",
    "                      \"coating_cleaning\"]\n",
    "\n",
    "cleaning_func_list = [cleaning_old_longer,\n",
    "                      cleaning_old_merge,\n",
    "                      fast_cleaning_longer,\n",
    "                      fast_cleaning_merge,\n",
    "                      coating_cleaning]\n",
    "plot_title = [\"Efficiency\", \"Cleaning efficiency/Raw efficiency\", \"Time\", \"Fake rate\"]"
   ],
   "metadata": {
    "collapsed": false,
    "ExecuteTime": {
     "end_time": "2023-08-23T18:59:47.150553700Z",
     "start_time": "2023-08-23T18:59:47.129556400Z"
    }
   },
   "id": "644f02241cef39dd"
  },
  {
   "cell_type": "code",
   "execution_count": 3,
   "outputs": [],
   "source": [
    "result = {cleaning_type: [] for cleaning_type in cleaning_type_list}\n",
    "event_list = [event_list[i:i + 2] for i in range(0, len(event_list), 2)]\n",
    "result_efficiency = pd.DataFrame(columns=cleaning_type_list.append(\"raw\"))\n",
    "result_time = pd.DataFrame(columns=cleaning_type_list)\n",
    "result_fake_rate = pd.DataFrame(columns=cleaning_type_list)"
   ],
   "metadata": {
    "collapsed": false,
    "ExecuteTime": {
     "end_time": "2023-08-23T18:59:49.385115400Z",
     "start_time": "2023-08-23T18:59:49.359118100Z"
    }
   },
   "id": "dd83f94a4a5ce141"
  },
  {
   "cell_type": "code",
   "execution_count": null,
   "outputs": [],
   "source": [
    "for event_number, event in enumerate(event_list):\n",
    "    hit_file = event[0]\n",
    "    track_file = event[1]\n",
    "\n",
    "    tracks = get_tracks_data(f'{path}/{track_file}')\n",
    "    hits = get_hits_data_for_validation(f'{path}/{hit_file}')\n",
    "    \n",
    "    print(f\"###################################{hit_file}###################################\")\n",
    "    if not len(tracks) or not len(hits):\n",
    "        print(\"ZERO\")\n",
    "        continue\n",
    "\n",
    "    for cleaning_type, cleaning_func in zip(cleaning_type_list, cleaning_func_list):\n",
    "        s = time()\n",
    "        cleaned_tracks = cleaning_func(list(map(lambda x: x.copy(), tracks)))\n",
    "        result_time.at[event_number, cleaning_type] = time() - s\n",
    "        result_efficiency.at[event_number, \"raw\"] = get_efficiency(tracks, hits, min_length=9)\n",
    "        result_efficiency.at[event_number, cleaning_type] = get_efficiency(cleaned_tracks, hits, min_length=9)\n",
    "        result_fake_rate.at[event_number, cleaning_type] = get_fake_rate(cleaned_tracks, hits)"
   ],
   "metadata": {
    "collapsed": false
   },
   "id": "4b8e92ef5cd5d398"
  },
  {
   "cell_type": "code",
   "execution_count": 5,
   "outputs": [],
   "source": [
    "temp_efficiency = result_efficiency[result_efficiency[\"raw\"] != 0]\n",
    "temp_efficiency = temp_efficiency.div(temp_efficiency[\"raw\"], axis=0)"
   ],
   "metadata": {
    "collapsed": false,
    "ExecuteTime": {
     "end_time": "2023-08-23T19:26:54.289845700Z",
     "start_time": "2023-08-23T19:26:54.269603Z"
    }
   },
   "id": "a976e87d3d445aae"
  },
  {
   "cell_type": "code",
   "execution_count": null,
   "outputs": [],
   "source": [
    "matplotlib.rcParams.update({'font.size': 20})\n",
    "fig, axs = plt.subplots(4, 1, figsize=(30, 30))\n",
    "\n",
    "for i, df in enumerate([result_efficiency, temp_efficiency, result_time, result_fake_rate]):\n",
    "    for column in df.columns.difference([\"raw\"]):\n",
    "        axs[i].plot(df.index, df[column], label=column)\n",
    "    axs[i].set_xlabel(\"Индекс\")\n",
    "    axs[i].set_ylabel(\"Значение\")\n",
    "    axs[i].set_title(plot_title[i])\n",
    "    axs[i].legend()\n",
    "\n",
    "plt.tight_layout()\n",
    "plt.show()"
   ],
   "metadata": {
    "collapsed": false
   },
   "id": "f0f925b76569302f"
  }
 ],
 "metadata": {
  "kernelspec": {
   "display_name": "Python 3",
   "language": "python",
   "name": "python3"
  },
  "language_info": {
   "codemirror_mode": {
    "name": "ipython",
    "version": 2
   },
   "file_extension": ".py",
   "mimetype": "text/x-python",
   "name": "python",
   "nbconvert_exporter": "python",
   "pygments_lexer": "ipython2",
   "version": "2.7.6"
  }
 },
 "nbformat": 4,
 "nbformat_minor": 5
}
