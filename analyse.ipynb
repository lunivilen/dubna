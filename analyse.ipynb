{
 "cells": [
  {
   "cell_type": "code",
   "execution_count": 1,
   "id": "e0d70c8788c10888",
   "metadata": {
    "collapsed": false
   },
   "outputs": [],
   "source": [
    "from graph_cleaning import graph_cleaning, graph_merging\n",
    "from direct_cleaning import direct_cleaning\n",
    "from direct_merging import direct_merging\n",
    "from coverage_cleaning import coverage_cleaning\n",
    "from validation import calc_characteristics\n",
    "from matplotlib import pyplot as plt\n",
    "from copy import deepcopy\n",
    "from get_data import *\n",
    "from time import time\n",
    "import pandas as pd\n",
    "import matplotlib\n",
    "import os\n"
   ]
  },
  {
   "cell_type": "markdown",
   "id": "2a41e634054aa1",
   "metadata": {
    "collapsed": false
   },
   "source": [
    "# Create variables for analysis"
   ]
  },
  {
   "cell_type": "code",
   "execution_count": 2,
   "id": "644f02241cef39dd",
   "metadata": {
    "collapsed": false
   },
   "outputs": [],
   "source": [
    "path = \"data\"\n",
    "event_list = os.listdir(path)\n",
    "cleaning_type_list = [\"raw\",\n",
    "                      \"direct_cleaning\",\n",
    "                      \"direct_merging\",\n",
    "                      \"graph_cleaning\",\n",
    "                      \"graph_merging\",\n",
    "                      \"coverage_cleaning\"]\n",
    "\n",
    "cleaning_func_list = [list,\n",
    "                      direct_cleaning,\n",
    "                      direct_merging,\n",
    "                      graph_cleaning,\n",
    "                      graph_merging,\n",
    "                      coverage_cleaning]\n",
    "plot_title = [\"Efficiency\",\n",
    "              \"Number of tracks left\",\n",
    "              \"Fake rate\",\n",
    "              \"Duplicates\",\n",
    "              \"Purity\"]"
   ]
  },
  {
   "cell_type": "markdown",
   "id": "597b2005467b3408",
   "metadata": {
    "collapsed": false
   },
   "source": [
    "# Create data objects for information storing"
   ]
  },
  {
   "cell_type": "code",
   "execution_count": 3,
   "id": "dd83f94a4a5ce141",
   "metadata": {
    "collapsed": false
   },
   "outputs": [],
   "source": [
    "event_list = [event_list[i:i + 3] for i in range(0, len(event_list), 3)]\n",
    "df_efficiency = pd.DataFrame(columns=cleaning_type_list)\n",
    "df_time = pd.DataFrame(columns=cleaning_type_list)\n",
    "df_fake_rate = pd.DataFrame(columns=cleaning_type_list)\n",
    "df_tracks_number = pd.DataFrame(columns=cleaning_type_list)\n",
    "df_duplicate = pd.DataFrame(columns=cleaning_type_list)\n",
    "df_purity = pd.DataFrame(columns=cleaning_type_list)"
   ]
  },
  {
   "cell_type": "markdown",
   "id": "858628f5588ced34",
   "metadata": {
    "collapsed": false
   },
   "source": [
    "# Collect statistics of all types of cleaning"
   ]
  },
  {
   "cell_type": "code",
   "execution_count": 4,
   "id": "4b8e92ef5cd5d398",
   "metadata": {
    "collapsed": false
   },
   "outputs": [
    {
     "name": "stdout",
     "output_type": "stream",
     "text": [
      "###############################0/1###############################\n"
     ]
    }
   ],
   "source": [
    "for event_number, event in enumerate(event_list):\n",
    "    track_file = event[0]\n",
    "    hit_file = event[1]\n",
    "    id_file = event[2]\n",
    "\n",
    "    tracks = get_tracks_data(f'{path}/{track_file}', f'{path}/{hit_file}')\n",
    "    hit_list = get_hits_data_for_validation(f'{path}/{hit_file}')\n",
    "    track_dict = get_hits_data(f'{path}/{hit_file}')\n",
    "    secon_track_list = get_secondary_track(f'{path}/{id_file}')\n",
    "\n",
    "    print(f\"###############################{event_number}/{len(event_list)}###############################\")\n",
    "    if not len(tracks) or not len(hit_list):\n",
    "        print(\"ZERO\")\n",
    "        continue\n",
    "\n",
    "    for cleaning_type, cleaning_func in zip(cleaning_type_list, cleaning_func_list):\n",
    "        s = time()\n",
    "        cleaned_tracks = cleaning_func(deepcopy(tracks))\n",
    "        df_time.at[event_number, cleaning_type] = time() - s\n",
    "        df_tracks_number.at[event_number, cleaning_type] = len(cleaned_tracks)\n",
    "        characteristic_dict = calc_characteristics(cleaned_tracks, hit_list, track_dict, secon_track_list)\n",
    "\n",
    "        df_efficiency.at[event_number, cleaning_type] = characteristic_dict[\"efficiency\"]\n",
    "        df_fake_rate.at[event_number, cleaning_type] = characteristic_dict[\"fake_rate\"]\n",
    "        df_duplicate.at[event_number, cleaning_type] = characteristic_dict[\"duplication_rate\"]\n",
    "        df_purity.at[event_number, cleaning_type] = characteristic_dict[\"purity\"]"
   ]
  },
  {
   "cell_type": "markdown",
   "id": "66452a8efaf791e0",
   "metadata": {
    "collapsed": false
   },
   "source": [
    "# Save df as cvs"
   ]
  },
  {
   "cell_type": "code",
   "execution_count": 5,
   "id": "4a02466a10e53c79",
   "metadata": {
    "collapsed": false
   },
   "outputs": [
    {
     "ename": "OSError",
     "evalue": "Cannot save file into a non-existent directory: 'result'",
     "output_type": "error",
     "traceback": [
      "\u001b[1;31m---------------------------------------------------------------------------\u001b[0m",
      "\u001b[1;31mOSError\u001b[0m                                   Traceback (most recent call last)",
      "\u001b[1;32mc:\\Users\\jama2\\OneDrive\\Документы\\nica.mpd\\analyse.ipynb Cell 9\u001b[0m line \u001b[0;36m<cell line: 8>\u001b[1;34m()\u001b[0m\n\u001b[0;32m      <a href='vscode-notebook-cell:/c%3A/Users/jama2/OneDrive/%D0%94%D0%BE%D0%BA%D1%83%D0%BC%D0%B5%D0%BD%D1%82%D1%8B/nica.mpd/analyse.ipynb#X11sZmlsZQ%3D%3D?line=1'>2</a>\u001b[0m name_list \u001b[39m=\u001b[39m [\u001b[39m\"\u001b[39m\u001b[39mEfficiency\u001b[39m\u001b[39m\"\u001b[39m,\n\u001b[0;32m      <a href='vscode-notebook-cell:/c%3A/Users/jama2/OneDrive/%D0%94%D0%BE%D0%BA%D1%83%D0%BC%D0%B5%D0%BD%D1%82%D1%8B/nica.mpd/analyse.ipynb#X11sZmlsZQ%3D%3D?line=2'>3</a>\u001b[0m              \u001b[39m\"\u001b[39m\u001b[39mNumber of tracks left\u001b[39m\u001b[39m\"\u001b[39m,\n\u001b[0;32m      <a href='vscode-notebook-cell:/c%3A/Users/jama2/OneDrive/%D0%94%D0%BE%D0%BA%D1%83%D0%BC%D0%B5%D0%BD%D1%82%D1%8B/nica.mpd/analyse.ipynb#X11sZmlsZQ%3D%3D?line=3'>4</a>\u001b[0m              \u001b[39m\"\u001b[39m\u001b[39mFake rate\u001b[39m\u001b[39m\"\u001b[39m,\n\u001b[0;32m      <a href='vscode-notebook-cell:/c%3A/Users/jama2/OneDrive/%D0%94%D0%BE%D0%BA%D1%83%D0%BC%D0%B5%D0%BD%D1%82%D1%8B/nica.mpd/analyse.ipynb#X11sZmlsZQ%3D%3D?line=4'>5</a>\u001b[0m              \u001b[39m\"\u001b[39m\u001b[39mDuplicates\u001b[39m\u001b[39m\"\u001b[39m,\n\u001b[0;32m      <a href='vscode-notebook-cell:/c%3A/Users/jama2/OneDrive/%D0%94%D0%BE%D0%BA%D1%83%D0%BC%D0%B5%D0%BD%D1%82%D1%8B/nica.mpd/analyse.ipynb#X11sZmlsZQ%3D%3D?line=5'>6</a>\u001b[0m              \u001b[39m\"\u001b[39m\u001b[39mPurity\u001b[39m\u001b[39m\"\u001b[39m,\n\u001b[0;32m      <a href='vscode-notebook-cell:/c%3A/Users/jama2/OneDrive/%D0%94%D0%BE%D0%BA%D1%83%D0%BC%D0%B5%D0%BD%D1%82%D1%8B/nica.mpd/analyse.ipynb#X11sZmlsZQ%3D%3D?line=6'>7</a>\u001b[0m              \u001b[39m\"\u001b[39m\u001b[39mTime\u001b[39m\u001b[39m\"\u001b[39m]\n\u001b[0;32m      <a href='vscode-notebook-cell:/c%3A/Users/jama2/OneDrive/%D0%94%D0%BE%D0%BA%D1%83%D0%BC%D0%B5%D0%BD%D1%82%D1%8B/nica.mpd/analyse.ipynb#X11sZmlsZQ%3D%3D?line=7'>8</a>\u001b[0m \u001b[39mfor\u001b[39;00m df, name \u001b[39min\u001b[39;00m \u001b[39mzip\u001b[39m(df_list, name_list):\n\u001b[1;32m----> <a href='vscode-notebook-cell:/c%3A/Users/jama2/OneDrive/%D0%94%D0%BE%D0%BA%D1%83%D0%BC%D0%B5%D0%BD%D1%82%D1%8B/nica.mpd/analyse.ipynb#X11sZmlsZQ%3D%3D?line=8'>9</a>\u001b[0m     df\u001b[39m.\u001b[39;49mto_csv(\u001b[39mf\u001b[39;49m\u001b[39m\"\u001b[39;49m\u001b[39mresult/\u001b[39;49m\u001b[39m{\u001b[39;49;00mname\u001b[39m}\u001b[39;49;00m\u001b[39m.csv\u001b[39;49m\u001b[39m\"\u001b[39;49m, index\u001b[39m=\u001b[39;49m\u001b[39mFalse\u001b[39;49;00m)\n",
      "File \u001b[1;32mc:\\Users\\jama2\\AppData\\Local\\Programs\\Python\\Python310\\lib\\site-packages\\pandas\\core\\generic.py:3563\u001b[0m, in \u001b[0;36mNDFrame.to_csv\u001b[1;34m(self, path_or_buf, sep, na_rep, float_format, columns, header, index, index_label, mode, encoding, compression, quoting, quotechar, line_terminator, chunksize, date_format, doublequote, escapechar, decimal, errors, storage_options)\u001b[0m\n\u001b[0;32m   3552\u001b[0m df \u001b[39m=\u001b[39m \u001b[39mself\u001b[39m \u001b[39mif\u001b[39;00m \u001b[39misinstance\u001b[39m(\u001b[39mself\u001b[39m, ABCDataFrame) \u001b[39melse\u001b[39;00m \u001b[39mself\u001b[39m\u001b[39m.\u001b[39mto_frame()\n\u001b[0;32m   3554\u001b[0m formatter \u001b[39m=\u001b[39m DataFrameFormatter(\n\u001b[0;32m   3555\u001b[0m     frame\u001b[39m=\u001b[39mdf,\n\u001b[0;32m   3556\u001b[0m     header\u001b[39m=\u001b[39mheader,\n\u001b[1;32m   (...)\u001b[0m\n\u001b[0;32m   3560\u001b[0m     decimal\u001b[39m=\u001b[39mdecimal,\n\u001b[0;32m   3561\u001b[0m )\n\u001b[1;32m-> 3563\u001b[0m \u001b[39mreturn\u001b[39;00m DataFrameRenderer(formatter)\u001b[39m.\u001b[39;49mto_csv(\n\u001b[0;32m   3564\u001b[0m     path_or_buf,\n\u001b[0;32m   3565\u001b[0m     line_terminator\u001b[39m=\u001b[39;49mline_terminator,\n\u001b[0;32m   3566\u001b[0m     sep\u001b[39m=\u001b[39;49msep,\n\u001b[0;32m   3567\u001b[0m     encoding\u001b[39m=\u001b[39;49mencoding,\n\u001b[0;32m   3568\u001b[0m     errors\u001b[39m=\u001b[39;49merrors,\n\u001b[0;32m   3569\u001b[0m     compression\u001b[39m=\u001b[39;49mcompression,\n\u001b[0;32m   3570\u001b[0m     quoting\u001b[39m=\u001b[39;49mquoting,\n\u001b[0;32m   3571\u001b[0m     columns\u001b[39m=\u001b[39;49mcolumns,\n\u001b[0;32m   3572\u001b[0m     index_label\u001b[39m=\u001b[39;49mindex_label,\n\u001b[0;32m   3573\u001b[0m     mode\u001b[39m=\u001b[39;49mmode,\n\u001b[0;32m   3574\u001b[0m     chunksize\u001b[39m=\u001b[39;49mchunksize,\n\u001b[0;32m   3575\u001b[0m     quotechar\u001b[39m=\u001b[39;49mquotechar,\n\u001b[0;32m   3576\u001b[0m     date_format\u001b[39m=\u001b[39;49mdate_format,\n\u001b[0;32m   3577\u001b[0m     doublequote\u001b[39m=\u001b[39;49mdoublequote,\n\u001b[0;32m   3578\u001b[0m     escapechar\u001b[39m=\u001b[39;49mescapechar,\n\u001b[0;32m   3579\u001b[0m     storage_options\u001b[39m=\u001b[39;49mstorage_options,\n\u001b[0;32m   3580\u001b[0m )\n",
      "File \u001b[1;32mc:\\Users\\jama2\\AppData\\Local\\Programs\\Python\\Python310\\lib\\site-packages\\pandas\\io\\formats\\format.py:1180\u001b[0m, in \u001b[0;36mDataFrameRenderer.to_csv\u001b[1;34m(self, path_or_buf, encoding, sep, columns, index_label, mode, compression, quoting, quotechar, line_terminator, chunksize, date_format, doublequote, escapechar, errors, storage_options)\u001b[0m\n\u001b[0;32m   1159\u001b[0m     created_buffer \u001b[39m=\u001b[39m \u001b[39mFalse\u001b[39;00m\n\u001b[0;32m   1161\u001b[0m csv_formatter \u001b[39m=\u001b[39m CSVFormatter(\n\u001b[0;32m   1162\u001b[0m     path_or_buf\u001b[39m=\u001b[39mpath_or_buf,\n\u001b[0;32m   1163\u001b[0m     line_terminator\u001b[39m=\u001b[39mline_terminator,\n\u001b[1;32m   (...)\u001b[0m\n\u001b[0;32m   1178\u001b[0m     formatter\u001b[39m=\u001b[39m\u001b[39mself\u001b[39m\u001b[39m.\u001b[39mfmt,\n\u001b[0;32m   1179\u001b[0m )\n\u001b[1;32m-> 1180\u001b[0m csv_formatter\u001b[39m.\u001b[39;49msave()\n\u001b[0;32m   1182\u001b[0m \u001b[39mif\u001b[39;00m created_buffer:\n\u001b[0;32m   1183\u001b[0m     \u001b[39massert\u001b[39;00m \u001b[39misinstance\u001b[39m(path_or_buf, StringIO)\n",
      "File \u001b[1;32mc:\\Users\\jama2\\AppData\\Local\\Programs\\Python\\Python310\\lib\\site-packages\\pandas\\io\\formats\\csvs.py:241\u001b[0m, in \u001b[0;36mCSVFormatter.save\u001b[1;34m(self)\u001b[0m\n\u001b[0;32m    237\u001b[0m \u001b[39m\u001b[39m\u001b[39m\"\"\"\u001b[39;00m\n\u001b[0;32m    238\u001b[0m \u001b[39mCreate the writer & save.\u001b[39;00m\n\u001b[0;32m    239\u001b[0m \u001b[39m\"\"\"\u001b[39;00m\n\u001b[0;32m    240\u001b[0m \u001b[39m# apply compression and byte/text conversion\u001b[39;00m\n\u001b[1;32m--> 241\u001b[0m \u001b[39mwith\u001b[39;00m get_handle(\n\u001b[0;32m    242\u001b[0m     \u001b[39mself\u001b[39;49m\u001b[39m.\u001b[39;49mfilepath_or_buffer,\n\u001b[0;32m    243\u001b[0m     \u001b[39mself\u001b[39;49m\u001b[39m.\u001b[39;49mmode,\n\u001b[0;32m    244\u001b[0m     encoding\u001b[39m=\u001b[39;49m\u001b[39mself\u001b[39;49m\u001b[39m.\u001b[39;49mencoding,\n\u001b[0;32m    245\u001b[0m     errors\u001b[39m=\u001b[39;49m\u001b[39mself\u001b[39;49m\u001b[39m.\u001b[39;49merrors,\n\u001b[0;32m    246\u001b[0m     compression\u001b[39m=\u001b[39;49m\u001b[39mself\u001b[39;49m\u001b[39m.\u001b[39;49mcompression,\n\u001b[0;32m    247\u001b[0m     storage_options\u001b[39m=\u001b[39;49m\u001b[39mself\u001b[39;49m\u001b[39m.\u001b[39;49mstorage_options,\n\u001b[0;32m    248\u001b[0m ) \u001b[39mas\u001b[39;00m handles:\n\u001b[0;32m    249\u001b[0m \n\u001b[0;32m    250\u001b[0m     \u001b[39m# Note: self.encoding is irrelevant here\u001b[39;00m\n\u001b[0;32m    251\u001b[0m     \u001b[39mself\u001b[39m\u001b[39m.\u001b[39mwriter \u001b[39m=\u001b[39m csvlib\u001b[39m.\u001b[39mwriter(\n\u001b[0;32m    252\u001b[0m         handles\u001b[39m.\u001b[39mhandle,\n\u001b[0;32m    253\u001b[0m         lineterminator\u001b[39m=\u001b[39m\u001b[39mself\u001b[39m\u001b[39m.\u001b[39mline_terminator,\n\u001b[1;32m   (...)\u001b[0m\n\u001b[0;32m    258\u001b[0m         quotechar\u001b[39m=\u001b[39m\u001b[39mself\u001b[39m\u001b[39m.\u001b[39mquotechar,\n\u001b[0;32m    259\u001b[0m     )\n\u001b[0;32m    261\u001b[0m     \u001b[39mself\u001b[39m\u001b[39m.\u001b[39m_save()\n",
      "File \u001b[1;32mc:\\Users\\jama2\\AppData\\Local\\Programs\\Python\\Python310\\lib\\site-packages\\pandas\\io\\common.py:697\u001b[0m, in \u001b[0;36mget_handle\u001b[1;34m(path_or_buf, mode, encoding, compression, memory_map, is_text, errors, storage_options)\u001b[0m\n\u001b[0;32m    695\u001b[0m \u001b[39m# Only for write methods\u001b[39;00m\n\u001b[0;32m    696\u001b[0m \u001b[39mif\u001b[39;00m \u001b[39m\"\u001b[39m\u001b[39mr\u001b[39m\u001b[39m\"\u001b[39m \u001b[39mnot\u001b[39;00m \u001b[39min\u001b[39;00m mode \u001b[39mand\u001b[39;00m is_path:\n\u001b[1;32m--> 697\u001b[0m     check_parent_directory(\u001b[39mstr\u001b[39;49m(handle))\n\u001b[0;32m    699\u001b[0m \u001b[39mif\u001b[39;00m compression:\n\u001b[0;32m    700\u001b[0m     \u001b[39mif\u001b[39;00m compression \u001b[39m!=\u001b[39m \u001b[39m\"\u001b[39m\u001b[39mzstd\u001b[39m\u001b[39m\"\u001b[39m:\n\u001b[0;32m    701\u001b[0m         \u001b[39m# compression libraries do not like an explicit text-mode\u001b[39;00m\n",
      "File \u001b[1;32mc:\\Users\\jama2\\AppData\\Local\\Programs\\Python\\Python310\\lib\\site-packages\\pandas\\io\\common.py:571\u001b[0m, in \u001b[0;36mcheck_parent_directory\u001b[1;34m(path)\u001b[0m\n\u001b[0;32m    569\u001b[0m parent \u001b[39m=\u001b[39m Path(path)\u001b[39m.\u001b[39mparent\n\u001b[0;32m    570\u001b[0m \u001b[39mif\u001b[39;00m \u001b[39mnot\u001b[39;00m parent\u001b[39m.\u001b[39mis_dir():\n\u001b[1;32m--> 571\u001b[0m     \u001b[39mraise\u001b[39;00m \u001b[39mOSError\u001b[39;00m(\u001b[39mfr\u001b[39m\u001b[39m\"\u001b[39m\u001b[39mCannot save file into a non-existent directory: \u001b[39m\u001b[39m'\u001b[39m\u001b[39m{\u001b[39;00mparent\u001b[39m}\u001b[39;00m\u001b[39m'\u001b[39m\u001b[39m\"\u001b[39m)\n",
      "\u001b[1;31mOSError\u001b[0m: Cannot save file into a non-existent directory: 'result'"
     ]
    }
   ],
   "source": [
    "df_list = [df_efficiency, df_tracks_number, df_fake_rate, df_duplicate, df_purity, df_time]\n",
    "name_list = [\"Efficiency\",\n",
    "             \"Number of tracks left\",\n",
    "             \"Fake rate\",\n",
    "             \"Duplicates\",\n",
    "             \"Purity\",\n",
    "             \"Time\"]\n",
    "for df, name in zip(df_list, name_list):\n",
    "    df.to_csv(f\"result/{name}.csv\", index=False)"
   ]
  },
  {
   "cell_type": "markdown",
   "id": "a16849f5d57ea127",
   "metadata": {
    "collapsed": false
   },
   "source": [
    "# Load df from csv"
   ]
  },
  {
   "cell_type": "code",
   "execution_count": null,
   "id": "d71b9c52eb8649be",
   "metadata": {
    "collapsed": false
   },
   "outputs": [],
   "source": [
    "df_efficiency = pd.read_csv(f\"result/Efficiency.csv\")\n",
    "df_tracks_number = pd.read_csv(f\"result/Number of tracks left.csv\")\n",
    "df_fake_rate = pd.read_csv(f\"result/Fake rate.csv\")\n",
    "df_duplicate = pd.read_csv(f\"result/Duplicates.csv\")\n",
    "df_purity = pd.read_csv(f\"result/Purity.csv\")\n",
    "df_time = pd.read_csv(f\"result/Time.csv\")"
   ]
  },
  {
   "cell_type": "markdown",
   "id": "aebca8ad446978ea",
   "metadata": {
    "collapsed": false
   },
   "source": [
    "# Remove zero outliers"
   ]
  },
  {
   "cell_type": "code",
   "execution_count": null,
   "id": "5e4fb98e9b4f4690",
   "metadata": {
    "collapsed": false
   },
   "outputs": [],
   "source": [
    "zero_index = df_efficiency[df_efficiency[\"raw\"] < 0.1].index\n",
    "df_efficiency = df_efficiency.drop(index=zero_index, axis=0)\n",
    "df_tracks_number = df_tracks_number.drop(index=zero_index, axis=0)\n",
    "df_fake_rate = df_fake_rate.drop(index=zero_index, axis=0)\n",
    "df_duplicate = df_duplicate.drop(index=zero_index, axis=0)\n",
    "df_purity = df_purity.drop(index=zero_index, axis=0)\n",
    "df_time = df_time.drop(index=zero_index, axis=0)"
   ]
  },
  {
   "cell_type": "markdown",
   "id": "522f6519a2e30126",
   "metadata": {
    "collapsed": false
   },
   "source": [
    "# Drawing"
   ]
  },
  {
   "cell_type": "code",
   "execution_count": null,
   "id": "f0f925b76569302f",
   "metadata": {
    "collapsed": false
   },
   "outputs": [],
   "source": [
    "matplotlib.rcParams.update({'font.size': 20})\n",
    "fig, axs = plt.subplots(11, 1, figsize=(50, 50))\n",
    "\n",
    "df_list = [df_efficiency, df_tracks_number, df_fake_rate, df_duplicate, df_purity]\n",
    "for plot_id, df_id in zip(range(0, (len(df_list) + 1) * 2, 2), range(len(df_list))):\n",
    "    df_normalized = df_list[df_id][df_list[df_id][\"raw\"] != 0]\n",
    "    df_normalized = df_normalized.div(df_normalized[\"raw\"], axis=0)\n",
    "\n",
    "    for j, df in enumerate([df_list[df_id], df_normalized]):\n",
    "        for column in df.columns.difference([\"raw\"]):\n",
    "            axs[plot_id + j].plot(df.index, df[column], label=column)\n",
    "        axs[plot_id + j].set_xlabel(\"Индекс\")\n",
    "        axs[plot_id + j].set_ylabel(\"Значение\")\n",
    "        axs[plot_id + j].set_title(plot_title[df_id] + \"/Raw\" if j else plot_title[df_id])\n",
    "        axs[plot_id + j].legend()\n",
    "\n",
    "for column in df_time.columns.difference([\"raw\"]):\n",
    "    axs[len(df_list) * 2].plot(df_time.index, df_time[column], label=column)\n",
    "axs[len(df_list) * 2].set_xlabel(\"Индекс\")\n",
    "axs[len(df_list) * 2].set_ylabel(\"Значение\")\n",
    "axs[len(df_list) * 2].set_title('Time')\n",
    "axs[len(df_list) * 2].legend()\n",
    "\n",
    "plt.tight_layout()\n",
    "plt.show()"
   ]
  },
  {
   "cell_type": "markdown",
   "id": "55d6c112dc6c4e12",
   "metadata": {
    "collapsed": false
   },
   "source": [
    "# Average"
   ]
  },
  {
   "cell_type": "code",
   "execution_count": null,
   "id": "f00c671e0c5aed8e",
   "metadata": {
    "collapsed": false
   },
   "outputs": [],
   "source": [
    "matplotlib.rcParams.update({'font.size': 20})\n",
    "fig, axs = plt.subplots(6, 1, figsize=(20, 50))\n",
    "plot_title = [\"Efficiency\",\n",
    "              \"Number of tracks left\",\n",
    "              \"Fake rate\",\n",
    "              \"Duplicates\",\n",
    "              \"Purity\",\n",
    "              \"Time\"]\n",
    "colour_list = ['grey', 'blue', 'orange', 'red', 'purple', 'green']\n",
    "df_list = [df_efficiency, df_tracks_number, df_fake_rate, df_duplicate, df_purity, df_time]\n",
    "for plot_id, df in enumerate(df_list):\n",
    "    axs[plot_id].barh(df.mean().index, df.mean(), color=colour_list)\n",
    "    axs[plot_id].set_title(plot_title[plot_id])\n",
    "    axs[plot_id].set_xlim(df.mean().min()*0.9)\n",
    "\n",
    "plt.tight_layout()\n",
    "plt.show()"
   ]
  }
 ],
 "metadata": {
  "kernelspec": {
   "display_name": "Python 3",
   "language": "python",
   "name": "python3"
  },
  "language_info": {
   "codemirror_mode": {
    "name": "ipython",
    "version": 3
   },
   "file_extension": ".py",
   "mimetype": "text/x-python",
   "name": "python",
   "nbconvert_exporter": "python",
   "pygments_lexer": "ipython3",
   "version": "3.10.2"
  }
 },
 "nbformat": 4,
 "nbformat_minor": 5
}
