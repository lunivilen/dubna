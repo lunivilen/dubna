{
 "cells": [
  {
   "cell_type": "code",
   "execution_count": null,
   "id": "e0d70c8788c10888",
   "metadata": {
    "collapsed": false
   },
   "outputs": [],
   "source": [
    "from post_processing.cleaning.graph_cleaning import graph_cleaning, graph_merging\n",
    "from post_processing.cleaning.direct_cleaning import direct_cleaning\n",
    "from post_processing.merging.direct_merging import direct_merging\n",
    "from post_processing.cleaning.coverage_cleaning import coverage_cleaning\n",
    "from analyse.validation import calc_characteristics\n",
    "from matplotlib import pyplot as plt\n",
    "from copy import deepcopy\n",
    "from data_processing.parse_data import *\n",
    "from time import time\n",
    "import pandas as pd\n",
    "import matplotlib\n",
    "import os"
   ]
  },
  {
   "cell_type": "markdown",
   "id": "2a41e634054aa1",
   "metadata": {
    "collapsed": false
   },
   "source": [
    "# Create variables for analysis"
   ]
  },
  {
   "cell_type": "code",
   "execution_count": null,
   "id": "644f02241cef39dd",
   "metadata": {
    "collapsed": false
   },
   "outputs": [],
   "source": [
    "path = \"../../data/tracks_data/\"\n",
    "event_list = os.listdir(path)\n",
    "cleaning_type_list = [\"raw\",\n",
    "                      \"direct_cleaning\",\n",
    "                      \"direct_merging\",\n",
    "                      \"graph_cleaning\",\n",
    "                      \"graph_merging\",\n",
    "                      \"coverage_cleaning\"]\n",
    "\n",
    "cleaning_func_list = [list,\n",
    "                      direct_cleaning,\n",
    "                      direct_merging,\n",
    "                      graph_cleaning,\n",
    "                      graph_merging,\n",
    "                      coverage_cleaning]\n",
    "plot_title = [\"Efficiency\",\n",
    "              \"Number of tracks left\",\n",
    "              \"Fake rate\",\n",
    "              \"Duplicates\",\n",
    "              \"Purity\"]"
   ]
  },
  {
   "cell_type": "markdown",
   "id": "597b2005467b3408",
   "metadata": {
    "collapsed": false
   },
   "source": [
    "# Create data objects for information storing"
   ]
  },
  {
   "cell_type": "code",
   "execution_count": null,
   "id": "dd83f94a4a5ce141",
   "metadata": {
    "collapsed": false
   },
   "outputs": [],
   "source": [
    "event_list = [event_list[i:i + 3] for i in range(0, len(event_list), 3)]\n",
    "df_time = pd.DataFrame(columns=cleaning_type_list)\n",
    "df_num_recognize_track = pd.DataFrame(columns=cleaning_type_list)\n",
    "df_num_real_track = pd.DataFrame(columns=cleaning_type_list)\n",
    "df_num_duplicate_track = pd.DataFrame(columns=cleaning_type_list)\n",
    "df_num_proto_track = pd.DataFrame(columns=cleaning_type_list)\n",
    "df_num_fake_track = pd.DataFrame(columns=cleaning_type_list)\n",
    "df_num_reco_dupl_track = pd.DataFrame(columns=cleaning_type_list)"
   ]
  },
  {
   "cell_type": "markdown",
   "id": "858628f5588ced34",
   "metadata": {
    "collapsed": false
   },
   "source": [
    "# Collect statistics of all types of cleaning"
   ]
  },
  {
   "cell_type": "code",
   "execution_count": null,
   "id": "4b8e92ef5cd5d398",
   "metadata": {
    "collapsed": false
   },
   "outputs": [],
   "source": [
    "for event_number, event in enumerate(event_list[]):\n",
    "    track_file = event[0]\n",
    "    hit_file = event[1]\n",
    "    id_file = event[2]\n",
    "\n",
    "    tracks = get_tracks_data(f'{path}/{track_file}', f'{path}/{hit_file}')\n",
    "    hit_list = get_hits_data_for_validation(f'{path}/{hit_file}')\n",
    "    track_dict = get_hits_data(f'{path}/{hit_file}')\n",
    "    second_track_list = get_track_id(f'{path}/{id_file}')\n",
    "\n",
    "    print(f\"###############################{event_number}/{len(event_list)}###############################\")\n",
    "\n",
    "    if not len(tracks) or not len(hit_list):\n",
    "        print(\"ZERO\")\n",
    "        continue\n",
    "\n",
    "    for cleaning_type, cleaning_func in zip(cleaning_type_list, cleaning_func_list):\n",
    "        s = time()\n",
    "        cleaned_tracks = cleaning_func(deepcopy(tracks))\n",
    "        df_time.at[event_number, cleaning_type] = time() - s\n",
    "\n",
    "        characteristic_dict = calc_characteristics(cleaned_tracks, hit_list, track_dict, second_track_list)\n",
    "\n",
    "        df_num_real_track.at[event_number, cleaning_type] = characteristic_dict[\"num_real_track\"]\n",
    "        df_num_duplicate_track.at[event_number, cleaning_type] = characteristic_dict[\"num_duplicate_track\"]\n",
    "        df_num_proto_track.at[event_number, cleaning_type] = characteristic_dict[\"num_proto_track\"]\n",
    "        df_num_fake_track.at[event_number, cleaning_type] = characteristic_dict[\"num_fake_track\"]\n",
    "        df_num_reco_dupl_track.at[event_number, cleaning_type] = characteristic_dict[\"num_reco_dupl_track\"]\n",
    "        df_num_recognize_track.at[event_number, cleaning_type] = characteristic_dict[\"num_recognize_track\"]"
   ]
  },
  {
   "cell_type": "markdown",
   "id": "66452a8efaf791e0",
   "metadata": {
    "collapsed": false
   },
   "source": [
    "# Save df as cvs"
   ]
  },
  {
   "cell_type": "code",
   "execution_count": null,
   "id": "4a02466a10e53c79",
   "metadata": {
    "collapsed": false
   },
   "outputs": [],
   "source": [
    "df_list = [df_num_recognize_track, df_num_real_track, df_num_duplicate_track, df_num_proto_track,\n",
    "           df_num_fake_track, df_num_reco_dupl_track, df_time]\n",
    "name_list = [\"NumRecognizeTrack\",\n",
    "             \"NumRealTrack\",\n",
    "             \"NumDuplicateTrack\",\n",
    "             \"NumProtoTrack\",\n",
    "             \"NumFakeTrack\",\n",
    "             \"NumRecoDuplTrack\",\n",
    "             \"Time\"]\n",
    "for df, name in zip(df_list, name_list):\n",
    "    df.to_csv(f\"../../data/method_compare/{name}.csv\", index=False)"
   ]
  },
  {
   "cell_type": "markdown",
   "id": "a16849f5d57ea127",
   "metadata": {
    "collapsed": false
   },
   "source": [
    "# Load df from csv"
   ]
  },
  {
   "cell_type": "code",
   "execution_count": null,
   "id": "d71b9c52eb8649be",
   "metadata": {
    "collapsed": false
   },
   "outputs": [],
   "source": [
    "df_time = pd.read_csv(\"../../data/method_compare_1/Time.csv\")\n",
    "df_num_recognize_track = pd.read_csv(\"../../data/method_compare_1/NumRecognizeTrack.csv\")\n",
    "df_num_real_track = pd.read_csv(\"../../data/method_compare_1/NumRealTrack.csv\")\n",
    "df_num_duplicate_track = pd.read_csv(\"../../data/method_compare_1/NumDuplicateTrack.csv\")\n",
    "df_num_proto_track = pd.read_csv(\"../../data/method_compare_1/NumProtoTrack.csv\")\n",
    "df_num_fake_track = pd.read_csv(\"../../data/method_compare_1/NumFakeTrack.csv\")\n",
    "df_num_reco_dupl_track = pd.read_csv(\"../../data/method_compare_1/NumRecoDuplTrack.csv\")"
   ]
  },
  {
   "cell_type": "code",
   "execution_count": null,
   "outputs": [],
   "source": [
    "df_efficiency = df_num_recognize_track / df_num_real_track\n",
    "df_fake_rate = df_num_fake_track / df_num_proto_track\n",
    "df_duplicate = df_num_duplicate_track / df_num_proto_track\n",
    "df_purity = df_num_reco_dupl_track / df_num_proto_track"
   ],
   "metadata": {
    "collapsed": false
   },
   "id": "772f2c5cdc0068d4"
  },
  {
   "cell_type": "markdown",
   "id": "aebca8ad446978ea",
   "metadata": {
    "collapsed": false,
    "ExecuteTime": {
     "end_time": "2023-11-22T09:00:54.229267500Z",
     "start_time": "2023-11-22T09:00:54.195804800Z"
    }
   },
   "source": [
    "# Remove zero outliers"
   ]
  },
  {
   "cell_type": "code",
   "execution_count": null,
   "id": "5e4fb98e9b4f4690",
   "metadata": {
    "collapsed": false
   },
   "outputs": [],
   "source": [
    "zero_index = df_efficiency[df_efficiency.isna().any(axis=1)].index\n",
    "df_efficiency = df_efficiency.drop(index=zero_index, axis=0)\n",
    "df_num_proto_track = df_num_proto_track.drop(index=zero_index, axis=0)\n",
    "df_fake_rate = df_fake_rate.drop(index=zero_index, axis=0)\n",
    "df_duplicate = df_duplicate.drop(index=zero_index, axis=0)\n",
    "df_purity = df_purity.drop(index=zero_index, axis=0)\n",
    "df_time = df_time.drop(index=zero_index, axis=0)"
   ]
  },
  {
   "cell_type": "markdown",
   "id": "522f6519a2e30126",
   "metadata": {
    "collapsed": false,
    "ExecuteTime": {
     "end_time": "2023-11-22T09:00:55.790208600Z",
     "start_time": "2023-11-22T09:00:55.772360900Z"
    }
   },
   "source": [
    "# Drawing"
   ]
  },
  {
   "cell_type": "code",
   "execution_count": null,
   "id": "f0f925b76569302f",
   "metadata": {
    "collapsed": false,
    "is_executing": true
   },
   "outputs": [],
   "source": [
    "matplotlib.rcParams.update({'font.size': 20})\n",
    "fig, axs = plt.subplots(11, 1, figsize=(50, 50))\n",
    "\n",
    "df_list = [df_efficiency, df_num_proto_track, df_fake_rate, df_duplicate, df_purity]\n",
    "for plot_id, df_id in zip(range(0, (len(df_list) + 1) * 2, 2), range(len(df_list))):\n",
    "    df_normalized = df_list[df_id][df_list[df_id][\"raw\"] != 0]\n",
    "    df_normalized = df_normalized.div(df_normalized[\"raw\"], axis=0)\n",
    "\n",
    "    for j, df in enumerate([df_list[df_id], df_normalized]):\n",
    "        for column in df.columns.difference([\"raw\"]):\n",
    "            axs[plot_id + j].plot(df.index, df[column], label=column)\n",
    "        axs[plot_id + j].set_xlabel(\"Индекс\")\n",
    "        axs[plot_id + j].set_ylabel(\"Значение\")\n",
    "        axs[plot_id + j].set_title(plot_title[df_id] + \"/Raw\" if j else plot_title[df_id])\n",
    "        axs[plot_id + j].legend()\n",
    "\n",
    "for column in df_time.columns.difference([\"raw\"]):\n",
    "    axs[len(df_list) * 2].plot(df_time.index, df_time[column], label=column)\n",
    "axs[len(df_list) * 2].set_xlabel(\"Индекс\")\n",
    "axs[len(df_list) * 2].set_ylabel(\"Значение\")\n",
    "axs[len(df_list) * 2].set_title('Time')\n",
    "axs[len(df_list) * 2].legend()\n",
    "\n",
    "plt.tight_layout()\n",
    "plt.show()"
   ]
  },
  {
   "cell_type": "markdown",
   "id": "55d6c112dc6c4e12",
   "metadata": {
    "collapsed": false,
    "ExecuteTime": {
     "end_time": "2023-11-22T09:01:00.995600200Z",
     "start_time": "2023-11-22T09:00:57.099467100Z"
    }
   },
   "source": [
    "# Average"
   ]
  },
  {
   "cell_type": "code",
   "execution_count": null,
   "outputs": [],
   "source": [
    "df_efficiency = df_num_recognize_track.sum() / df_num_real_track.sum()\n",
    "df_fake_rate = df_num_fake_track.sum() / df_num_proto_track.sum()\n",
    "df_duplicate = df_num_duplicate_track.sum() / df_num_proto_track.sum()\n",
    "df_purity = df_num_reco_dupl_track.sum() / df_num_proto_track.sum()\n",
    "df_num_proto_track = df_num_proto_track.mean()\n",
    "df_time = df_time.mean()"
   ],
   "metadata": {
    "collapsed": false
   },
   "id": "c78bae5b1227a506"
  },
  {
   "cell_type": "code",
   "execution_count": null,
   "outputs": [],
   "source": [
    "df_efficiency"
   ],
   "metadata": {
    "collapsed": false
   },
   "id": "392ca68783672d2f"
  },
  {
   "cell_type": "code",
   "execution_count": null,
   "id": "f00c671e0c5aed8e",
   "metadata": {
    "collapsed": false
   },
   "outputs": [],
   "source": [
    "matplotlib.rcParams.update({'font.size': 20})\n",
    "fig, axs = plt.subplots(6, 1, figsize=(20, 50))\n",
    "plot_title.append(\"Time\")\n",
    "colour_list = ['grey', 'blue', 'orange', 'red', 'purple', 'green']\n",
    "df_list = [df_efficiency, df_num_proto_track, df_fake_rate, df_duplicate, df_purity, df_time]\n",
    "for plot_id, df in enumerate(df_list):\n",
    "    axs[plot_id].barh(df.index, df, color=colour_list)\n",
    "    axs[plot_id].set_title(plot_title[plot_id])\n",
    "    axs[plot_id].set_xlim(df.min() * 0.9)\n",
    "\n",
    "plt.tight_layout()\n",
    "plt.show()"
   ]
  }
 ],
 "metadata": {
  "kernelspec": {
   "display_name": "Python 3",
   "language": "python",
   "name": "python3"
  },
  "language_info": {
   "codemirror_mode": {
    "name": "ipython",
    "version": 3
   },
   "file_extension": ".py",
   "mimetype": "text/x-python",
   "name": "python",
   "nbconvert_exporter": "python",
   "pygments_lexer": "ipython3",
   "version": "3.10.2"
  }
 },
 "nbformat": 4,
 "nbformat_minor": 5
}
